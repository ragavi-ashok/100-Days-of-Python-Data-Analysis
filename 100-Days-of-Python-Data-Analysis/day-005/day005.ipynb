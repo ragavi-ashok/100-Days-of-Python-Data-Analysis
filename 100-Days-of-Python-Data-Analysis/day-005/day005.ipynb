{
 "cells": [
  {
   "cell_type": "markdown",
   "metadata": {},
   "source": [
    "### Linear Fit Algorithm\n",
    "\n",
    "#### Problem: Write an algorithm that linearly fits given inputs and outputs the slope and intercept of the linear function.\n",
    "\n",
    "##### Constraints:\n",
    "- #####  The input variable `inputs` must be a list of floats.\n",
    "\n",
    "#### Task:\n",
    "- ##### Implement a function that calculates the slope and intercept of the best-fit line for the given input list.\n",
    "\n",
    "### Test Case 1:\n",
    "- #### Input: `[10.5, 35.3, 19.0, 47.8, 25.0, 8.1]`\n",
    "- #### Expected Output**: [0.006105437881138815, 2.648260383213654]\n",
    "\n",
    "##### Test Case 2:\n",
    "- #### Input: `[5.0, 2.3, 7.8, 1.0, 4.4, 8.2, 0.6]`\n",
    "- #### Expected Output: `[-0.08503315280660023, 3.3559244824619126]\n",
    "\n",
    "\n",
    "### Test Case 3:\n",
    "- #### Input: `[3.1415, 2.7182, 1.4142, 1.732, 0.5772, 2.6854]`\n",
    "- #### Expected Output: [0.8890810496036857, 4.317948476177136]"
   ]
  },
  {
   "cell_type": "code",
   "execution_count": 15,
   "metadata": {},
   "outputs": [
    {
     "name": "stdout",
     "output_type": "stream",
     "text": [
      "From FUNC input: [5.0, 2.3, 7.8, 1.0, 4.4, 8.2, 0.6]\n",
      "Slope: -0.08503315280660023, Intercept: 3.3559244824619126\n",
      "From FUNC input: [10.5, 35.3, 19.0, 47.8, 25.0, 8.1]\n",
      "Slope: -0.006105437881138815, Intercept: 2.648260383213654\n",
      "From FUNC input: [3.1415, 2.7182, 1.4142, 1.732, 0.5772, 2.6854]\n",
      "Slope: -0.8890810496036857, Intercept: 4.317948476177136\n"
     ]
    }
   ],
   "source": [
    "def linear_fit(input):\n",
    "    n = len(input)  # Number of points (length of the input list)\n",
    "    print(f\"From FUNC input: {input}\")\n",
    "    # y-values are the indices: [0, 1, 2, 3, ..., n-1]\n",
    "    y_values = list(range(n))\n",
    "    \n",
    "    # Mean of x (input) and y (indices)\n",
    "    mean_x = sum(input) / n\n",
    "    mean_y = sum(y_values) / n\n",
    "    \n",
    "    # Calculate the slope (m) using the mean formula\n",
    "    numerator = sum((x - mean_x) * (y - mean_y) for x, y in zip(input, y_values))\n",
    "    denominator = sum((x - mean_x) ** 2 for x in input)\n",
    "    \n",
    "    slope = numerator / denominator\n",
    "    \n",
    "    # Calculate the intercept (b) using the mean values\n",
    "    intercept = mean_y - slope * mean_x\n",
    "    return slope, intercept\n",
    "\n",
    "# Input list provided directly\n",
    "input_values1 = [5.0, 2.3, 7.8, 1.0, 4.4, 8.2, 0.6]\n",
    "input_values2 = [10.5, 35.3, 19.0, 47.8, 25.0, 8.1]\n",
    "input_values3 = [3.1415, 2.7182, 1.4142, 1.732, 0.5772, 2.6854]\n",
    "\n",
    "\n",
    "# Call the function and print the result\n",
    "slope, intercept = linear_fit(input_values1)\n",
    "print(f\"Slope: {slope}, Intercept: {intercept}\")\n",
    "slope, intercept = linear_fit(input_values2)\n",
    "print(f\"Slope: {slope}, Intercept: {intercept}\")\n",
    "slope, intercept = linear_fit(input_values3)\n",
    "print(f\"Slope: {slope}, Intercept: {intercept}\")"
   ]
  }
 ],
 "metadata": {
  "kernelspec": {
   "display_name": "base",
   "language": "python",
   "name": "python3"
  },
  "language_info": {
   "codemirror_mode": {
    "name": "ipython",
    "version": 3
   },
   "file_extension": ".py",
   "mimetype": "text/x-python",
   "name": "python",
   "nbconvert_exporter": "python",
   "pygments_lexer": "ipython3",
   "version": "3.11.4"
  },
  "orig_nbformat": 4
 },
 "nbformat": 4,
 "nbformat_minor": 2
}
